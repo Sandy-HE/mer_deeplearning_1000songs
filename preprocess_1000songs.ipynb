{
 "cells": [
  {
   "cell_type": "code",
   "execution_count": 1,
   "metadata": {},
   "outputs": [],
   "source": [
    "from audio2numpy import open_audio\n",
    "import pandas as pd\n",
    "import numpy as np\n",
    "import os\n",
    "import glob"
   ]
  },
  {
   "cell_type": "code",
   "execution_count": 2,
   "metadata": {},
   "outputs": [],
   "source": [
    "df_arousal = pd.read_csv('../annotations/arousal_cont_average.csv')\n",
    "df_arousal.drop(columns=['sample_15000ms'], inplace=True)\n",
    "df_valence = pd.read_csv('../annotations/valence_cont_average.csv')\n",
    "df_valence.drop(columns=['sample_15000ms'], inplace=True)"
   ]
  },
  {
   "cell_type": "code",
   "execution_count": 3,
   "metadata": {},
   "outputs": [],
   "source": [
    "df_static = pd.read_csv('../annotations/static_annotations.csv')[['song_id', 'mean_arousal', 'mean_valence']]"
   ]
  },
  {
   "cell_type": "code",
   "execution_count": 4,
   "metadata": {
    "scrolled": true
   },
   "outputs": [],
   "source": [
    "song_arousal_labels = dict(zip(df_static['song_id'].tolist(), df_static['mean_arousal'].tolist()))\n",
    "arousal_labels = dict(zip(df_arousal['song_id'].tolist(), \n",
    "                          df_arousal[[col for col in df_arousal.columns if col != 'song_id']].values.tolist()))\n",
    "song_valence_labels = dict(zip(df_static['song_id'].tolist(), \n",
    "                               df_static['mean_valence'].tolist()))\n",
    "valence_labels = dict(zip(df_valence['song_id'].tolist(), \n",
    "                          df_valence[[col for col in df_valence.columns if col != 'song_id']].values.tolist()))"
   ]
  },
  {
   "cell_type": "code",
   "execution_count": 5,
   "metadata": {},
   "outputs": [],
   "source": [
    "# 951 songs with 44100Hz, 49 songs with 48000 sampling rate\n",
    "# after matching annotation(744 songs), 705 songs with 44100Hz, 39 songs with 48000Hz\n",
    "total_len = 44100 * 30\n",
    "for f in glob.glob('../clips_45seconds/*.mp3'):\n",
    "    signal, sampling_rate = open_audio(f)\n",
    "    if sampling_rate != 44100:\n",
    "        continue\n",
    "    song_id = int(f.split('/')[-1][:-4])\n",
    "    y_song = arousal_labels.get(song_id)\n",
    "    if y_song is None:\n",
    "        continue\n",
    "    signal = signal[-total_len:]\n",
    "    y_arousal, y_song_arousal = arousal_labels.get(song_id), song_arousal_labels.get(song_id)\n",
    "    y_valence, y_song_valence = valence_labels.get(song_id), song_valence_labels.get(song_id)\n",
    "    save_dict = {\n",
    "            \"x\": signal,\n",
    "            \"y_song_arousal\": y_song_arousal,\n",
    "            \"y_arousal\": y_arousal,\n",
    "            \"y_song_valence\": y_song_valence,\n",
    "            \"y_valence\": y_valence\n",
    "        }\n",
    "    np.savez('../data/{}.npz'.format(song_id), **save_dict)"
   ]
  },
 "metadata": {
  "kernelspec": {
   "display_name": "Python 3",
   "language": "python",
   "name": "python3"
  },
  "language_info": {
   "codemirror_mode": {
    "name": "ipython",
    "version": 3
   },
   "file_extension": ".py",
   "mimetype": "text/x-python",
   "name": "python",
   "nbconvert_exporter": "python",
   "pygments_lexer": "ipython3",
   "version": "3.7.1"
  }
 },
 "nbformat": 4,
 "nbformat_minor": 2
}