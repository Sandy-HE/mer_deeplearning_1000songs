{
 "cells": [
  {
   "cell_type": "code",
   "execution_count": 1,
   "metadata": {},
   "outputs": [
    {
     "name": "stderr",
     "output_type": "stream",
     "text": [
      "Using TensorFlow backend.\n"
     ]
    }
   ],
   "source": [
    "import numpy as np\n",
    "import pandas as pd\n",
    "import keras\n",
    "from keras.models import Sequential\n",
    "from keras.layers import Dense, Dropout, Flatten, TimeDistributed, BatchNormalization, Reshape \n",
    "from keras.layers.convolutional import Conv1D\n",
    "from keras.layers.pooling import MaxPooling1D\n",
    "from sklearn.metrics import r2_score, accuracy_score\n",
    "import matplotlib.pyplot as plt\n",
    "import tensorflow_docs as tfdocs\n",
    "import tensorflow_docs.plots\n",
    "import tensorflow_docs.modeling\n",
    "from keras import regularizers\n",
    "from keras import optimizers\n",
    "from keras.layers import LSTM\n",
    "from sklearn.preprocessing import MinMaxScaler"
   ]
  },
  {
   "cell_type": "code",
   "execution_count": 2,
   "metadata": {},
   "outputs": [],
   "source": [
    "y_train = pd.read_csv('../model_input/train_y.csv', index_col=0).values\n",
    "y_valid = pd.read_csv('../model_input/valid_y.csv', index_col=0).values\n",
    "y_test = pd.read_csv('../model_input/test_y.csv', index_col=0).values"
   ]
  },
  {
   "cell_type": "code",
   "execution_count": 3,
   "metadata": {},
   "outputs": [],
   "source": [
    "df_y_train = pd.DataFrame(y_train, columns=['valence', 'arousal'])\n",
    "df_y_train['label'] = 0\n",
    "df_y_train.loc[(df_y_train['valence'] < df_y_train['arousal']), 'label'] = 1\n",
    "y_train = df_y_train['label'].values\n",
    "\n",
    "df_y_test = pd.DataFrame(y_test, columns=['valence', 'arousal'])\n",
    "df_y_test['label'] = 0\n",
    "df_y_test.loc[(df_y_test['valence'] < df_y_test['arousal']), 'label'] = 1\n",
    "y_test = df_y_test['label'].values\n",
    "\n",
    "df_y_valid = pd.DataFrame(y_valid, columns=['valence', 'arousal'])\n",
    "df_y_valid['label'] = 0\n",
    "df_y_valid.loc[(df_y_valid['valence'] < df_y_valid['arousal']), 'label'] = 1\n",
    "y_valid = df_y_valid['label'].values"
   ]
  },
  {
   "cell_type": "code",
   "execution_count": 4,
   "metadata": {},
   "outputs": [
    {
     "data": {
      "text/plain": [
       "\"\\nX_train = np.load('../model_input/train_pitch_x.npz')['arr_0'].reshape(-1, 300, 12, 1)\\nX_test = np.load('../model_input/test_pitch_x.npz')['arr_0'].reshape(-1, 300, 12, 1)\\nX_valid = np.load('../model_input/valid_pitch_x.npz')['arr_0'].reshape(-1, 300, 12, 1)\\n\""
      ]
     },
     "execution_count": 4,
     "metadata": {},
     "output_type": "execute_result"
    }
   ],
   "source": [
    "\"\"\"\n",
    "X_train = np.load('../model_input/train_pitch_x.npz')['arr_0'].reshape(-1, 300, 12, 1)\n",
    "X_test = np.load('../model_input/test_pitch_x.npz')['arr_0'].reshape(-1, 300, 12, 1)\n",
    "X_valid = np.load('../model_input/valid_pitch_x.npz')['arr_0'].reshape(-1, 300, 12, 1)\n",
    "\"\"\""
   ]
  },
  {
   "cell_type": "code",
   "execution_count": 5,
   "metadata": {},
   "outputs": [],
   "source": [
    "X_train = np.concatenate((\n",
    "    np.load('../model_input/train_pitch_x.npz')['arr_0'].reshape(-1, 300, 12),\n",
    "    np.load('../model_input/train_timbre_x.npz')['arr_0'].reshape(-1, 300, 12), \n",
    "    np.load('../model_input/train_loudness_x.npz')['arr_0'].reshape(-1, 300, 3)), axis=2).reshape(-1, 8100)\n",
    "X_test = np.concatenate((\n",
    "    np.load('../model_input/test_pitch_x.npz')['arr_0'].reshape(-1, 300, 12), \n",
    "    np.load('../model_input/test_timbre_x.npz')['arr_0'].reshape(-1, 300, 12),\n",
    "    np.load('../model_input/test_loudness_x.npz')['arr_0'].reshape(-1, 300, 3)), axis=2).reshape(-1, 8100)\n",
    "X_valid = np.concatenate((\n",
    "    np.load('../model_input/valid_pitch_x.npz')['arr_0'].reshape(-1, 300, 12),\n",
    "    np.load('../model_input/valid_timbre_x.npz')['arr_0'].reshape(-1, 300, 12), \n",
    "    np.load('../model_input/valid_loudness_x.npz')['arr_0'].reshape(-1, 300, 3)), axis=2).reshape(-1, 8100)"
   ]
  },
  {
   "cell_type": "code",
   "execution_count": 6,
   "metadata": {},
   "outputs": [],
   "source": [
    "#X_train = np.load('../model_input/train_pitch_x.npz')['arr_0'].reshape(-1, 300, 12)\n",
    "#X_test = np.load('../model_input/test_pitch_x.npz')['arr_0'].reshape(-1, 300, 12)\n",
    "#X_valid = np.load('../model_input/valid_pitch_x.npz')['arr_0'].reshape(-1, 300, 12)"
   ]
  },
  {
   "cell_type": "code",
   "execution_count": 7,
   "metadata": {},
   "outputs": [
    {
     "data": {
      "text/plain": [
       "(11107, 8100)"
      ]
     },
     "execution_count": 7,
     "metadata": {},
     "output_type": "execute_result"
    }
   ],
   "source": [
    "X_train.shape"
   ]
  },
  {
   "cell_type": "code",
   "execution_count": 8,
   "metadata": {},
   "outputs": [],
   "source": [
    "#y_test = y_test[:, :1]\n",
    "#y_train = y_train[:, :1]\n",
    "#y_valid = y_valid[:, :1]"
   ]
  },
  {
   "cell_type": "code",
   "execution_count": 9,
   "metadata": {},
   "outputs": [
    {
     "data": {
      "text/plain": [
       "array([0, 1, 1, ..., 1, 1, 0], dtype=int64)"
      ]
     },
     "execution_count": 9,
     "metadata": {},
     "output_type": "execute_result"
    }
   ],
   "source": [
    "y_test"
   ]
  },
  {
   "cell_type": "code",
   "execution_count": 10,
   "metadata": {},
   "outputs": [],
   "source": [
    "X_all = np.concatenate((X_train, X_test, X_valid), axis=0)\n",
    "dense_enc = MinMaxScaler(feature_range=(0, 1))\n",
    "dense_enc.fit(X_all)\n",
    "X_train = dense_enc.transform(X_train).reshape(-1, 300, 27, 1)\n",
    "X_test = dense_enc.transform(X_test).reshape(-1, 300, 27, 1)\n",
    "X_valid = dense_enc.transform(X_valid).reshape(-1, 300, 27, 1)"
   ]
  },
  {
   "cell_type": "code",
   "execution_count": 12,
   "metadata": {},
   "outputs": [
    {
     "name": "stdout",
     "output_type": "stream",
     "text": [
      "Weight for class 0: 1.19\n",
      "Weight for class 1: 0.86\n"
     ]
    }
   ],
   "source": [
    "y_all = np.concatenate((y_train, y_test, y_valid), axis=0)\n",
    "neg, pos = np.bincount(np.squeeze(y_all))\n",
    "total = neg + pos\n",
    "weight_for_0 = (1 / neg) * (total) / 2.0\n",
    "weight_for_1 = (1 / pos) * (total) / 2.0\n",
    "\n",
    "class_weight = {0: weight_for_0, 1: weight_for_1}\n",
    "print('Weight for class 0: {:.2f}'.format(weight_for_0))\n",
    "print('Weight for class 1: {:.2f}'.format(weight_for_1))"
   ]
  },
  {
   "cell_type": "code",
   "execution_count": 13,
   "metadata": {},
   "outputs": [],
   "source": [
    "#y_all = np.concatenate((y_train, y_test, y_valid), axis=0)\n",
    "#label_enc = MinMaxScaler(feature_range=(0, 1))\n",
    "#dense_enc.fit(y_all)\n",
    "#y_train = dense_enc.transform(y_train)\n",
    "#y_test = dense_enc.transform(y_test)\n",
    "#y_valid = dense_enc.transform(y_valid)"
   ]
  },
  {
   "cell_type": "code",
   "execution_count": 14,
   "metadata": {},
   "outputs": [],
   "source": [
    "EPOCHS = 200\n",
    "BATCH_SIZE = 128"
   ]
  },
  {
   "cell_type": "code",
   "execution_count": 15,
   "metadata": {},
   "outputs": [],
   "source": [
    "from keras import backend as K\n",
    "\n",
    "def r2(y_true, y_pred):\n",
    "    SS_res =  K.sum(K.square(y_true - y_pred), axis = 0) \n",
    "    SS_tot = K.sum(K.square(y_true - K.mean(y_true, axis = 0)), axis = 0) \n",
    "    return K.mean(1 - SS_res/(SS_tot + K.epsilon()), axis = -1 )\n"
   ]
  },
  {
   "cell_type": "code",
   "execution_count": 16,
   "metadata": {},
   "outputs": [
    {
     "data": {
      "text/plain": [
       "\"\\nTimeDistributed(\\n    Conv1D(filters=64, kernel_size=3, padding='same', activation='relu', activity_regularizer=regularizers.l2(1e-3),\\ninput_shape=(27, 1))),\\nTimeDistributed(\\n    MaxPooling1D(pool_size=3),),\\nTimeDistributed(\\n    Dropout(0.5),\\n),\\nTimeDistributed(\\n    Flatten(),\\n),\\n\""
      ]
     },
     "execution_count": 16,
     "metadata": {},
     "output_type": "execute_result"
    }
   ],
   "source": [
    "        \"\"\"\n",
    "        TimeDistributed(\n",
    "            Conv1D(filters=64, kernel_size=3, padding='same', activation='relu', activity_regularizer=regularizers.l2(1e-3),\n",
    "        input_shape=(27, 1))),\n",
    "        TimeDistributed(\n",
    "            MaxPooling1D(pool_size=3),\\\n",
    "        ),\n",
    "        TimeDistributed(\n",
    "            Dropout(0.5),\n",
    "        ),\n",
    "        TimeDistributed(\n",
    "            Flatten(),\n",
    "        ),\n",
    "        \"\"\""
   ]
  },
  {
   "cell_type": "code",
   "execution_count": 17,
   "metadata": {},
   "outputs": [],
   "source": [
    "def build_model():\n",
    "    model = keras.Sequential([\n",
    "        TimeDistributed(\n",
    "            Conv1D(filters=32, kernel_size=3, padding='same', activation='relu', activity_regularizer=regularizers.l2(1e-3),\n",
    "        input_shape=(27, 1))),\n",
    "        TimeDistributed(\n",
    "            MaxPooling1D(pool_size=3),\\\n",
    "        ),\n",
    "        TimeDistributed(\n",
    "            Dropout(0.5),\n",
    "        ),\n",
    "        TimeDistributed(\n",
    "            Flatten(),\n",
    "        ),\n",
    "        LSTM(32, input_shape=(300, 27), dropout=0.5, recurrent_dropout=0.5),\n",
    "        Dense(1, activation='sigmoid')\n",
    "        ])\n",
    "    adam = optimizers.Adam(lr=1e-3)\n",
    "    #model.compile(loss='mean_squared_error', optimizer=adam, metrics=[r2])\n",
    "    model.compile(loss='binary_crossentropy', optimizer=adam, metrics=['accuracy'])\n",
    "    return model"
   ]
  },
  {
   "cell_type": "code",
   "execution_count": 18,
   "metadata": {},
   "outputs": [],
   "source": [
    "model = build_model()"
   ]
  },
  {
   "cell_type": "code",
   "execution_count": 19,
   "metadata": {},
   "outputs": [],
   "source": [
    "#es = keras.callbacks.EarlyStopping(monitor='val_r2', mode='max', verbose=1, patience=5, restore_best_weights=True)\n",
    "es = keras.callbacks.EarlyStopping(monitor='val_accuracy', mode='max', verbose=1, patience=5, restore_best_weights=True)\n",
    "#ckpt = keras.callbacks.ModelCheckpoint(filepath='weights.hdf5', verbose=1, save_best_only=True, monitor='val_r2', mode='max')"
   ]
  },
  {
   "cell_type": "code",
   "execution_count": 20,
   "metadata": {
    "scrolled": false
   },
   "outputs": [
    {
     "name": "stdout",
     "output_type": "stream",
     "text": [
      "Train on 11107 samples, validate on 3811 samples\n",
      "Epoch 1/200\n",
      "11107/11107 [==============================] - 35s 3ms/step - loss: 116.1922 - accuracy: 0.5006 - val_loss: 22.8567 - val_accuracy: 0.5707\n",
      "Epoch 2/200\n",
      "11107/11107 [==============================] - 32s 3ms/step - loss: 9.8769 - accuracy: 0.5119 - val_loss: 3.9917 - val_accuracy: 0.5715\n",
      "Epoch 3/200\n",
      "11107/11107 [==============================] - 34s 3ms/step - loss: 2.6990 - accuracy: 0.5403 - val_loss: 1.8450 - val_accuracy: 0.5712\n",
      "Epoch 4/200\n",
      "11107/11107 [==============================] - 35s 3ms/step - loss: 1.5007 - accuracy: 0.5385 - val_loss: 1.2259 - val_accuracy: 0.5712\n",
      "Epoch 5/200\n",
      "11107/11107 [==============================] - 34s 3ms/step - loss: 1.0909 - accuracy: 0.5549 - val_loss: 0.9725 - val_accuracy: 0.5712\n",
      "Epoch 6/200\n",
      "11107/11107 [==============================] - 33s 3ms/step - loss: 0.9106 - accuracy: 0.5488 - val_loss: 0.8519 - val_accuracy: 0.5712\n",
      "Epoch 7/200\n",
      "11107/11107 [==============================] - 32s 3ms/step - loss: 0.8212 - accuracy: 0.5495 - val_loss: 0.7896 - val_accuracy: 0.5712\n",
      "Restoring model weights from the end of the best epoch\n",
      "Epoch 00007: early stopping\n"
     ]
    }
   ],
   "source": [
    "history = model.fit(\n",
    "  X_train, y_train, batch_size=BATCH_SIZE,\n",
    "    epochs=EPOCHS, shuffle=False, class_weight=class_weight,\n",
    "    validation_data=(X_valid, y_valid),\n",
    "    verbose=1,\n",
    "    callbacks=[\n",
    "        #ckpt, \n",
    "        es])"
   ]
  },
  {
   "cell_type": "code",
   "execution_count": 21,
   "metadata": {},
   "outputs": [
    {
     "name": "stdout",
     "output_type": "stream",
     "text": [
      "Model: \"sequential_1\"\n",
      "_________________________________________________________________\n",
      "Layer (type)                 Output Shape              Param #   \n",
      "=================================================================\n",
      "time_distributed_1 (TimeDist (None, 300, 27, 32)       128       \n",
      "_________________________________________________________________\n",
      "time_distributed_2 (TimeDist (None, 300, 9, 32)        0         \n",
      "_________________________________________________________________\n",
      "time_distributed_3 (TimeDist (None, 300, 9, 32)        0         \n",
      "_________________________________________________________________\n",
      "time_distributed_4 (TimeDist (None, 300, 288)          0         \n",
      "_________________________________________________________________\n",
      "lstm_1 (LSTM)                (None, 32)                41088     \n",
      "_________________________________________________________________\n",
      "dense_1 (Dense)              (None, 1)                 33        \n",
      "=================================================================\n",
      "Total params: 41,249\n",
      "Trainable params: 41,249\n",
      "Non-trainable params: 0\n",
      "_________________________________________________________________\n"
     ]
    }
   ],
   "source": [
    "model.summary()"
   ]
  },
  {
   "cell_type": "code",
   "execution_count": 22,
   "metadata": {},
   "outputs": [],
   "source": [
    "y_pred = model.predict(X_test, batch_size=BATCH_SIZE)"
   ]
  },
  {
   "cell_type": "code",
   "execution_count": 24,
   "metadata": {},
   "outputs": [
    {
     "data": {
      "text/plain": [
       "0.5782332563510393"
      ]
     },
     "execution_count": 24,
     "metadata": {},
     "output_type": "execute_result"
    }
   ],
   "source": [
    "accuracy_score(y_test, y_pred.round())"
   ]
  },
  {
   "cell_type": "code",
   "execution_count": null,
   "metadata": {
    "scrolled": true
   },
   "outputs": [],
   "source": [
    "r2_score(y_test, y_pred)"
   ]
  },
  {
   "cell_type": "code",
   "execution_count": null,
   "metadata": {
    "scrolled": true
   },
   "outputs": [],
   "source": [
    "y_pred_val = model.predict(X_valid, batch_size=BATCH_SIZE)"
   ]
  },
  {
   "cell_type": "code",
   "execution_count": null,
   "metadata": {},
   "outputs": [],
   "source": [
    "r2_score(y_valid, y_pred_val)"
   ]
  },
  {
   "cell_type": "code",
   "execution_count": null,
   "metadata": {},
   "outputs": [],
   "source": [
    "r2_valence = r2_score(y_test[:, :1], y_pred[:, :1])"
   ]
  },
  {
   "cell_type": "code",
   "execution_count": null,
   "metadata": {},
   "outputs": [],
   "source": [
    "r2_valence"
   ]
  },
  {
   "cell_type": "code",
   "execution_count": null,
   "metadata": {},
   "outputs": [],
   "source": []
  }
 ],
 "metadata": {
  "kernelspec": {
   "display_name": "Python 3",
   "language": "python",
   "name": "python3"
  },
  "language_info": {
   "codemirror_mode": {
    "name": "ipython",
    "version": 3
   },
   "file_extension": ".py",
   "mimetype": "text/x-python",
   "name": "python",
   "nbconvert_exporter": "python",
   "pygments_lexer": "ipython3",
   "version": "3.7.4"
  }
 },
 "nbformat": 4,
 "nbformat_minor": 2
}
