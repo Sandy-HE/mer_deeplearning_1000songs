{
 "cells": [
  {
   "cell_type": "code",
   "execution_count": 1,
   "metadata": {},
   "outputs": [
    {
     "name": "stderr",
     "output_type": "stream",
     "text": [
      "Using TensorFlow backend.\n"
     ]
    }
   ],
   "source": [
    "import tensorflow as tf\n",
    "import numpy as np\n",
    "import pandas as pd\n",
    "import keras\n",
    "from keras.models import Sequential\n",
    "from keras.layers import Dense, Dropout\n",
    "import tensorflow_docs as tfdocs\n",
    "import tensorflow_docs.plots\n",
    "import tensorflow_docs.modeling"
   ]
  },
  {
   "cell_type": "code",
   "execution_count": 2,
   "metadata": {},
   "outputs": [],
   "source": [
    "y_train = pd.read_csv('../model_input/train_y.csv', index_col=0).values\n",
    "y_valid = pd.read_csv('../model_input/valid_y.csv', index_col=0).values\n",
    "y_test = pd.read_csv('../model_input/test_y.csv', index_col=0).values"
   ]
  },
  {
   "cell_type": "code",
   "execution_count": 3,
   "metadata": {},
   "outputs": [],
   "source": [
    "X_train = np.concatenate((np.load('../model_input/train_pitch_x.npz')['arr_0'].reshape(-1, 300, 12),\n",
    "                          np.load('../model_input/train_timbre_x.npz')['arr_0'].reshape(-1, 300, 12),\n",
    "                          np.load('../model_input/train_loudness_x.npz')['arr_0'].reshape(-1, 300, 3)), axis=2).reshape(-1, 8100)\n",
    "X_test = np.concatenate((np.load('../model_input/test_pitch_x.npz')['arr_0'].reshape(-1, 300, 12),\n",
    "                         np.load('../model_input/test_timbre_x.npz')['arr_0'].reshape(-1, 300, 12),\n",
    "                         np.load('../model_input/test_loudness_x.npz')['arr_0'].reshape(-1, 300, 3)), axis=2).reshape(-1, 8100)\n",
    "X_valid = np.concatenate((np.load('../model_input/valid_pitch_x.npz')['arr_0'].reshape(-1, 300, 12),\n",
    "                          np.load('../model_input/valid_timbre_x.npz')['arr_0'].reshape(-1, 300, 12),\n",
    "                          np.load('../model_input/valid_loudness_x.npz')['arr_0'].reshape(-1, 300, 3)), axis=2).reshape(-1, 8100)"
   ]
  },
  {
   "cell_type": "code",
   "execution_count": 4,
   "metadata": {},
   "outputs": [],
   "source": [
    "METRICS = [\n",
    "    keras.metrics.MeanSquaredError(name='mse')\n",
    "]"
   ]
  },
  {
   "cell_type": "code",
   "execution_count": 5,
   "metadata": {},
   "outputs": [],
   "source": [
    "def build_model():\n",
    "    model = keras.Sequential([\n",
    "    Dense(2048, activation='relu', input_shape=(8100,)),\n",
    "    #Dropout(0.5),\n",
    "    Dense(64, activation='relu'),\n",
    "    #Dropout(0.5),\n",
    "    Dense(2)\n",
    "  ])\n",
    "    model.compile(loss='mean_squared_error', optimizer='adam', metrics=METRICS)\n",
    "    return model"
   ]
  },
  {
   "cell_type": "code",
   "execution_count": 6,
   "metadata": {},
   "outputs": [],
   "source": [
    "model = build_model()"
   ]
  },
  {
   "cell_type": "code",
   "execution_count": 7,
   "metadata": {
    "scrolled": true
   },
   "outputs": [
    {
     "name": "stdout",
     "output_type": "stream",
     "text": [
      "Model: \"sequential_1\"\n",
      "_________________________________________________________________\n",
      "Layer (type)                 Output Shape              Param #   \n",
      "=================================================================\n",
      "dense_1 (Dense)              (None, 2048)              16590848  \n",
      "_________________________________________________________________\n",
      "dense_2 (Dense)              (None, 64)                131136    \n",
      "_________________________________________________________________\n",
      "dense_3 (Dense)              (None, 2)                 130       \n",
      "=================================================================\n",
      "Total params: 16,722,114\n",
      "Trainable params: 16,722,114\n",
      "Non-trainable params: 0\n",
      "_________________________________________________________________\n"
     ]
    }
   ],
   "source": [
    "model.summary()"
   ]
  },
  {
   "cell_type": "code",
   "execution_count": 8,
   "metadata": {},
   "outputs": [],
   "source": [
    "es = keras.callbacks.EarlyStopping(monitor='val_mse', mode='min', verbose=1, patience=10, restore_best_weights=True)\n",
    "ckpt = keras.callbacks.ModelCheckpoint(filepath='weights.hdf5', verbose=1, save_best_only=True, monitor='val_min',\n",
    "                                       mode='min')"
   ]
  },
  {
   "cell_type": "code",
   "execution_count": 9,
   "metadata": {},
   "outputs": [
    {
     "data": {
      "text/plain": [
       "(3811, 8100)"
      ]
     },
     "execution_count": 9,
     "metadata": {},
     "output_type": "execute_result"
    }
   ],
   "source": [
    "X_valid.shape"
   ]
  },
  {
   "cell_type": "code",
   "execution_count": 10,
   "metadata": {},
   "outputs": [
    {
     "data": {
      "text/plain": [
       "(3811, 2)"
      ]
     },
     "execution_count": 10,
     "metadata": {},
     "output_type": "execute_result"
    }
   ],
   "source": [
    "y_valid.shape"
   ]
  },
  {
   "cell_type": "code",
   "execution_count": 11,
   "metadata": {},
   "outputs": [
    {
     "name": "stdout",
     "output_type": "stream",
     "text": [
      "Train on 11107 samples, validate on 3811 samples\n",
      "Epoch 1/1000\n",
      "11107/11107 [==============================] - 7s 640us/step - loss: 277.1540 - mse: 277.1541 - val_loss: 1.8483 - val_mse: 1.8483\n",
      "Epoch 2/1000\n",
      "11107/11107 [==============================] - 7s 598us/step - loss: 1.2488 - mse: 1.2488 - val_loss: 1.8516 - val_mse: 1.8516\n",
      "Epoch 3/1000\n",
      "11107/11107 [==============================] - 7s 597us/step - loss: 1.0498 - mse: 1.0498 - val_loss: 1.9294 - val_mse: 1.9294\n",
      "Epoch 4/1000\n",
      "11107/11107 [==============================] - 7s 597us/step - loss: 1.0485 - mse: 1.0485 - val_loss: 1.9280 - val_mse: 1.9280\n",
      "Epoch 5/1000\n",
      "11107/11107 [==============================] - 7s 597us/step - loss: 1.0471 - mse: 1.0471 - val_loss: 1.9264 - val_mse: 1.9264\n",
      "Epoch 6/1000\n",
      "11107/11107 [==============================] - 7s 600us/step - loss: 1.0456 - mse: 1.0456 - val_loss: 1.9248 - val_mse: 1.9248\n",
      "Epoch 7/1000\n",
      "11107/11107 [==============================] - 7s 598us/step - loss: 1.0441 - mse: 1.0441 - val_loss: 1.9232 - val_mse: 1.9232\n",
      "Epoch 8/1000\n",
      "11107/11107 [==============================] - 7s 601us/step - loss: 1.0425 - mse: 1.0425 - val_loss: 1.9215 - val_mse: 1.9215\n",
      "Epoch 9/1000\n",
      "11107/11107 [==============================] - 7s 613us/step - loss: 1.0409 - mse: 1.0409 - val_loss: 1.9199 - val_mse: 1.9199\n",
      "Epoch 10/1000\n",
      "11107/11107 [==============================] - 7s 598us/step - loss: 1.0394 - mse: 1.0394 - val_loss: 1.9184 - val_mse: 1.9184\n",
      "Epoch 11/1000\n",
      "11107/11107 [==============================] - 7s 607us/step - loss: 1.0380 - mse: 1.0380 - val_loss: 1.9169 - val_mse: 1.9169\n",
      "Restoring model weights from the end of the best epoch\n",
      "Epoch 00011: early stopping\n"
     ]
    }
   ],
   "source": [
    "EPOCHS = 1000\n",
    "BATCH_SIZE = 64\n",
    "\n",
    "history = model.fit(\n",
    "  X_train, y_train, batch_size=BATCH_SIZE,\n",
    "    epochs=EPOCHS, \n",
    "    validation_data=(X_valid, y_valid),\n",
    "    verbose=1,\n",
    "    callbacks=[\n",
    "        #tfdocs.modeling.EpochDots(), \n",
    "        es])"
   ]
  },
  {
   "cell_type": "code",
   "execution_count": null,
   "metadata": {},
   "outputs": [],
   "source": []
  },
  {
   "cell_type": "code",
   "execution_count": null,
   "metadata": {},
   "outputs": [],
   "source": []
  },
  {
   "cell_type": "code",
   "execution_count": null,
   "metadata": {},
   "outputs": [],
   "source": []
  },
  {
   "cell_type": "code",
   "execution_count": null,
   "metadata": {},
   "outputs": [],
   "source": []
  }
 ],
 "metadata": {
  "kernelspec": {
   "display_name": "Python 3",
   "language": "python",
   "name": "python3"
  },
  "language_info": {
   "codemirror_mode": {
    "name": "ipython",
    "version": 3
   },
   "file_extension": ".py",
   "mimetype": "text/x-python",
   "name": "python",
   "nbconvert_exporter": "python",
   "pygments_lexer": "ipython3",
   "version": "3.7.4"
  }
 },
 "nbformat": 4,
 "nbformat_minor": 2
}
