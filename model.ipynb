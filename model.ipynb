{
 "cells": [
  {
   "cell_type": "code",
   "execution_count": 1,
   "metadata": {},
   "outputs": [],
   "source": [
    "import tensorflow as tf\n",
    "import numpy as np\n",
    "import pandas as pd\n",
    "from tensorflow import keras\n",
    "from tensorflow.keras import layers\n",
    "import tensorflow_docs as tfdocs\n",
    "import tensorflow_docs.plots\n",
    "import tensorflow_docs.modeling"
   ]
  },
  {
   "cell_type": "code",
   "execution_count": 2,
   "metadata": {},
   "outputs": [],
   "source": [
    "X_train = np.load('processed/train.npz')['arr_0']\n",
    "y_train = np.load('processed/train_y.npz')['arr_0']\n",
    "X_test = np.load('processed/test.npz')['arr_0']\n",
    "y_test = np.load('processed/test_y.npz')['arr_0']\n",
    "X_valid = np.load('processed/valid.npz')['arr_0']\n",
    "y_valid = np.load('processed/valid_y.npz')['arr_0']"
   ]
  },
  {
   "cell_type": "code",
   "execution_count": 3,
   "metadata": {},
   "outputs": [],
   "source": [
    "X_train = X_train.reshape([X_train.shape[0], -1])\n",
    "X_test = X_test.reshape([X_test.shape[0], -1])\n",
    "X_valid = X_valid.reshape([X_valid.shape[0], -1])"
   ]
  },
  {
   "cell_type": "code",
   "execution_count": 4,
   "metadata": {},
   "outputs": [],
   "source": [
    "def build_model():\n",
    "  model = keras.Sequential([\n",
    "    layers.Dense(64, activation='relu', input_shape=[8100]),\n",
    "    layers.Dense(64, activation='relu'),\n",
    "    layers.Dense(2)\n",
    "  ])\n",
    "\n",
    "  optimizer = tf.keras.optimizers.RMSprop(0.001)\n",
    "\n",
    "  model.compile(loss='mse',\n",
    "                optimizer=optimizer,\n",
    "                metrics=['mae', 'mse'])\n",
    "  return model"
   ]
  },
  {
   "cell_type": "code",
   "execution_count": 5,
   "metadata": {},
   "outputs": [],
   "source": [
    "model = build_model()"
   ]
  },
  {
   "cell_type": "code",
   "execution_count": 6,
   "metadata": {},
   "outputs": [
    {
     "name": "stdout",
     "output_type": "stream",
     "text": [
      "Model: \"sequential\"\n",
      "_________________________________________________________________\n",
      "Layer (type)                 Output Shape              Param #   \n",
      "=================================================================\n",
      "dense (Dense)                (None, 64)                518464    \n",
      "_________________________________________________________________\n",
      "dense_1 (Dense)              (None, 64)                4160      \n",
      "_________________________________________________________________\n",
      "dense_2 (Dense)              (None, 2)                 130       \n",
      "=================================================================\n",
      "Total params: 522,754\n",
      "Trainable params: 522,754\n",
      "Non-trainable params: 0\n",
      "_________________________________________________________________\n"
     ]
    }
   ],
   "source": [
    "model.summary()"
   ]
  },
  {
   "cell_type": "code",
   "execution_count": 7,
   "metadata": {},
   "outputs": [
    {
     "name": "stdout",
     "output_type": "stream",
     "text": [
      "\n",
      "Epoch: 0, loss:63.2905,  mae:2.7471,  mse:63.2904,  val_loss:1.7066,  val_mae:1.0153,  val_mse:1.7066,  \n",
      "....................................................................................................\n",
      "Epoch: 100, loss:1.0224,  mae:0.8673,  mse:1.0224,  val_loss:1.0679,  val_mae:0.8856,  val_mse:1.0679,  \n",
      "....................................................................................................\n",
      "Epoch: 200, loss:1.0224,  mae:0.8672,  mse:1.0224,  val_loss:1.0668,  val_mae:0.8854,  val_mse:1.0668,  \n",
      "....................................................................................................\n",
      "Epoch: 300, loss:1.0223,  mae:0.8674,  mse:1.0223,  val_loss:1.0674,  val_mae:0.8861,  val_mse:1.0674,  \n",
      "....................................................................................................\n",
      "Epoch: 400, loss:1.0223,  mae:0.8673,  mse:1.0223,  val_loss:1.0683,  val_mae:0.8865,  val_mse:1.0683,  \n",
      "....................................................................................................\n",
      "Epoch: 500, loss:1.0223,  mae:0.8672,  mse:1.0223,  val_loss:1.0672,  val_mae:0.8856,  val_mse:1.0672,  \n",
      "....................................................................................................\n",
      "Epoch: 600, loss:1.0223,  mae:0.8671,  mse:1.0223,  val_loss:1.0669,  val_mae:0.8855,  val_mse:1.0669,  \n",
      "....................................................................................................\n",
      "Epoch: 700, loss:1.0223,  mae:0.8671,  mse:1.0223,  val_loss:1.0676,  val_mae:0.8860,  val_mse:1.0676,  \n",
      "....................................................................................................\n",
      "Epoch: 800, loss:1.0223,  mae:0.8668,  mse:1.0223,  val_loss:1.0670,  val_mae:0.8859,  val_mse:1.0670,  \n",
      "....................................................................................................\n",
      "Epoch: 900, loss:1.0223,  mae:0.8673,  mse:1.0223,  val_loss:1.0682,  val_mae:0.8863,  val_mse:1.0682,  \n",
      "...................................................................................................."
     ]
    }
   ],
   "source": [
    "EPOCHS = 1000\n",
    "\n",
    "history = model.fit(\n",
    "  X_train, y_train,\n",
    "  epochs=EPOCHS, validation_split = 0.2, verbose=0,\n",
    "  callbacks=[tfdocs.modeling.EpochDots()])"
   ]
  },
  {
   "cell_type": "code",
   "execution_count": null,
   "metadata": {},
   "outputs": [],
   "source": []
  }
 ],
 "metadata": {
  "kernelspec": {
   "display_name": "Python 3",
   "language": "python",
   "name": "python3"
  },
  "language_info": {
   "codemirror_mode": {
    "name": "ipython",
    "version": 3
   },
   "file_extension": ".py",
   "mimetype": "text/x-python",
   "name": "python",
   "nbconvert_exporter": "python",
   "pygments_lexer": "ipython3",
   "version": "3.7.4"
  }
 },
 "nbformat": 4,
 "nbformat_minor": 2
}
