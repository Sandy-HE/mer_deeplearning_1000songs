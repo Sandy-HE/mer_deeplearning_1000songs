{
 "cells": [
  {
   "cell_type": "code",
   "execution_count": 1,
   "metadata": {},
   "outputs": [],
   "source": [
    "import pandas as pd\n",
    "import numpy as np"
   ]
  },
  {
   "cell_type": "code",
   "execution_count": null,
   "metadata": {},
   "outputs": [],
   "source": [
    "# df_train = pd.read_csv('../deezer_mood_detection_dataset/train.csv')\n",
    "# df_test = pd.read_csv('../deezer_mood_detection_dataset/test.csv')\n",
    "# df_valid = pd.read_csv('../deezer_mood_detection_dataset/validation.csv')"
   ]
  },
  {
   "cell_type": "code",
   "execution_count": 2,
   "metadata": {},
   "outputs": [],
   "source": [
    "df_train_y = pd.read_csv('../model_input/train_y.csv', index_col=0)\n",
    "df_test_y = pd.read_csv('../model_input/test_y.csv', index_col=0)\n",
    "df_valid_y = pd.read_csv('../model_input/valid_y.csv', index_col=0)"
   ]
  },
  {
   "cell_type": "code",
   "execution_count": null,
   "metadata": {},
   "outputs": [],
   "source": [
    "# df_train['split'] = 'train'\n",
    "# df_test['split'] = 'test'\n",
    "# df_valid['split'] = 'valid'"
   ]
  },
  {
   "cell_type": "code",
   "execution_count": null,
   "metadata": {},
   "outputs": [],
   "source": [
    "# df = pd.concat([df_train, df_test, df_valid])"
   ]
  },
  {
   "cell_type": "code",
   "execution_count": null,
   "metadata": {},
   "outputs": [],
   "source": [
    "# songs_withtag_info = pd.read_csv(\"../songswithtags_info_484032.csv\")"
   ]
  },
  {
   "cell_type": "code",
   "execution_count": null,
   "metadata": {},
   "outputs": [],
   "source": [
    "# df_all = songs_withtag_info[['track_id']].merge(df[['MSD_track_id', 'split', 'valence', 'arousal']], left_on='track_id', right_on='MSD_track_id', how='left')"
   ]
  },
  {
   "cell_type": "code",
   "execution_count": null,
   "metadata": {},
   "outputs": [],
   "source": [
    "#only keep the tracks in reference dataframe\n",
    "# df_all = df_all.dropna()"
   ]
  },
  {
   "cell_type": "code",
   "execution_count": null,
   "metadata": {},
   "outputs": [],
   "source": [
    "#====timbre training data preprocessing====\n",
    "# timbre = np.load('../timbrewithtag.npz')\n",
    "# array_timbre = timbre['arr_0']"
   ]
  },
  {
   "cell_type": "code",
   "execution_count": null,
   "metadata": {},
   "outputs": [],
   "source": [
    "#reshape timbre data for storage facility\n",
    "# array_timbre = array_timbre.reshape([-1, 3600])\n",
    "# df_timbre = pd.DataFrame(array_timbre)"
   ]
  },
  {
   "cell_type": "code",
   "execution_count": null,
   "metadata": {},
   "outputs": [],
   "source": [
    "# timbre_data = df_all.join(df_timbre, how='inner')\n",
    "# timbre_data.head()"
   ]
  },
  {
   "cell_type": "code",
   "execution_count": null,
   "metadata": {},
   "outputs": [],
   "source": [
    "# df_train = timbre_data[timbre_data['split'] == 'train']\n",
    "# df_train = df_train.drop(['track_id', 'MSD_track_id', 'split'], axis=1)\n",
    "# df_test = timbre_data[timbre_data['split'] == 'test']\n",
    "# df_test = df_test.drop(['track_id', 'MSD_track_id', 'split'], axis=1)\n",
    "# df_valid = timbre_data[timbre_data['split'] == 'valid']\n",
    "# df_valid = df_valid.drop(['track_id', 'MSD_track_id', 'split'], axis=1)"
   ]
  },
  {
   "cell_type": "code",
   "execution_count": null,
   "metadata": {},
   "outputs": [],
   "source": [
    "# df_train[['valence', 'arousal']].to_csv('../model_input/train_y.csv')\n",
    "# df_test[['valence', 'arousal']].to_csv('../model_input/test_y.csv')\n",
    "# df_valid[['valence', 'arousal']].to_csv('../model_input/valid_y.csv')"
   ]
  },
  {
   "cell_type": "code",
   "execution_count": null,
   "metadata": {},
   "outputs": [],
   "source": [
    "# df_train.drop(['valence', 'arousal'], axis=1, inplace=True)\n",
    "# np.savez('../model_input/train_timbre_x.npz', df_train.values)\n",
    "# df_test.drop(['valence', 'arousal'], axis=1, inplace=True)\n",
    "# np.savez('../model_input/test_timbre_x.npz', df_test.values)\n",
    "# df_valid.drop(['valence', 'arousal'], axis=1, inplace=True)\n",
    "# np.savez('../model_input/valid_timbre_x.npz', df_valid.values)"
   ]
  },
  {
   "cell_type": "code",
   "execution_count": null,
   "metadata": {},
   "outputs": [],
   "source": [
    "#====The end of timbre training data preprocessing===="
   ]
  },
  {
   "cell_type": "code",
   "execution_count": null,
   "metadata": {},
   "outputs": [],
   "source": [
    "#====loudness training data preprocessing====\n",
    "# loudness = np.load('../loudnesswithtag.npz')\n",
    "# array_loudness = loudness['arr_0']\n",
    "\n",
    "#np.savez('processed/loudness.npz', array_loudness[:18644])"
   ]
  },
  {
   "cell_type": "code",
   "execution_count": null,
   "metadata": {},
   "outputs": [],
   "source": [
    "# array_loudness = array_loudness.reshape([-1, 900])\n",
    "# df_loudness = pd.DataFrame(array_loudness)"
   ]
  },
  {
   "cell_type": "code",
   "execution_count": null,
   "metadata": {},
   "outputs": [],
   "source": [
    "# df_train = df_train_y.join(df_loudness, how='left')\n",
    "# df_train.drop(['valence', 'arousal'], axis=1, inplace=True)\n",
    "# np.savez('../model_input/train_loudness_x.npz', df_train.values)\n",
    "\n",
    "# df_test = df_test_y.join(df_loudness, how='left')\n",
    "# df_test.drop(['valence', 'arousal'], axis=1, inplace=True)\n",
    "# np.savez('../model_input/test_loudness_x.npz', df_test.values)\n",
    "\n",
    "# df_valid = df_valid_y.join(df_loudness, how='left')\n",
    "# df_valid.drop(['valence', 'arousal'], axis=1, inplace=True)\n",
    "# np.savez('../model_input/valid_loudness_x.npz', df_valid.values)\n",
    "#====The end of loudness training data preprocessing===="
   ]
  },
  {
   "cell_type": "code",
   "execution_count": 6,
   "metadata": {},
   "outputs": [],
   "source": [
    "#====pitch training data preprocessing====\n",
    "pitch = np.load('../pitchwithtag.npz')\n",
    "array_pitch = pitch['arr_0']\n",
    "#np.savez('processed/pitch.npz', array_pitch[:18644])"
   ]
  },
  {
   "cell_type": "code",
   "execution_count": 7,
   "metadata": {},
   "outputs": [
    {
     "data": {
      "text/plain": [
       "(484032, 300, 12)"
      ]
     },
     "execution_count": 7,
     "metadata": {},
     "output_type": "execute_result"
    }
   ],
   "source": [
    "array_pitch.shape"
   ]
  },
  {
   "cell_type": "code",
   "execution_count": 8,
   "metadata": {},
   "outputs": [],
   "source": [
    "array_pitch = array_pitch.reshape([-1, 3600])\n",
    "df_pitch = pd.DataFrame(array_pitch)"
   ]
  },
  {
   "cell_type": "code",
   "execution_count": 9,
   "metadata": {},
   "outputs": [],
   "source": [
    "df_train = df_train_y.join(df_pitch, how='left')\n",
    "df_train.drop(['valence', 'arousal'], axis=1, inplace=True)\n",
    "np.savez('../model_input/train_pitch_x.npz', df_train.values)\n",
    "\n",
    "df_test = df_test_y.join(df_pitch, how='left')\n",
    "df_test.drop(['valence', 'arousal'], axis=1, inplace=True)\n",
    "np.savez('../model_input/test_pitch_x.npz', df_test.values)\n",
    "\n",
    "df_valid = df_valid_y.join(df_pitch, how='left')\n",
    "df_valid.drop(['valence', 'arousal'], axis=1, inplace=True)\n",
    "np.savez('../model_input/valid_pitch_x.npz', df_valid.values)\n",
    "#====The end of loudness training data preprocessing===="
   ]
  }
 ],
 "metadata": {
  "kernelspec": {
   "display_name": "Python 3",
   "language": "python",
   "name": "python3"
  },
  "language_info": {
   "codemirror_mode": {
    "name": "ipython",
    "version": 3
   },
   "file_extension": ".py",
   "mimetype": "text/x-python",
   "name": "python",
   "nbconvert_exporter": "python",
   "pygments_lexer": "ipython3",
   "version": "3.7.4"
  }
 },
 "nbformat": 4,
 "nbformat_minor": 2
}
