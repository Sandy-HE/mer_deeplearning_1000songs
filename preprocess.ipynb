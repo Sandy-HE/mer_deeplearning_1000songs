{
 "cells": [
  {
   "cell_type": "code",
   "execution_count": 1,
   "metadata": {},
   "outputs": [],
   "source": [
    "import pandas as pd\n",
    "import numpy as np"
   ]
  },
  {
   "cell_type": "code",
   "execution_count": 2,
   "metadata": {},
   "outputs": [],
   "source": [
    "df_train = pd.read_csv('deezer_mood_detection_dataset/train.csv')\n",
    "df_test = pd.read_csv('deezer_mood_detection_dataset/test.csv')\n",
    "df_valid = pd.read_csv('deezer_mood_detection_dataset/validation.csv')"
   ]
  },
  {
   "cell_type": "code",
   "execution_count": 3,
   "metadata": {},
   "outputs": [
    {
     "data": {
      "text/html": [
       "<div>\n",
       "<style scoped>\n",
       "    .dataframe tbody tr th:only-of-type {\n",
       "        vertical-align: middle;\n",
       "    }\n",
       "\n",
       "    .dataframe tbody tr th {\n",
       "        vertical-align: top;\n",
       "    }\n",
       "\n",
       "    .dataframe thead th {\n",
       "        text-align: right;\n",
       "    }\n",
       "</style>\n",
       "<table border=\"1\" class=\"dataframe\">\n",
       "  <thead>\n",
       "    <tr style=\"text-align: right;\">\n",
       "      <th></th>\n",
       "      <th>dzr_sng_id</th>\n",
       "      <th>MSD_sng_id</th>\n",
       "      <th>MSD_track_id</th>\n",
       "      <th>valence</th>\n",
       "      <th>arousal</th>\n",
       "      <th>artist_name</th>\n",
       "      <th>track_name</th>\n",
       "    </tr>\n",
       "  </thead>\n",
       "  <tbody>\n",
       "    <tr>\n",
       "      <td>0</td>\n",
       "      <td>213754</td>\n",
       "      <td>SORORTY12A67ADD67E</td>\n",
       "      <td>TRJIEJX12903CF2202</td>\n",
       "      <td>-0.682725</td>\n",
       "      <td>0.316758</td>\n",
       "      <td>Dark Tranquillity</td>\n",
       "      <td>Insanity's Crescendo</td>\n",
       "    </tr>\n",
       "    <tr>\n",
       "      <td>1</td>\n",
       "      <td>216752</td>\n",
       "      <td>SOVJXGK12A8AE4760C</td>\n",
       "      <td>TRLBHVY128F4242C31</td>\n",
       "      <td>-1.400403</td>\n",
       "      <td>1.538229</td>\n",
       "      <td>Anorexia Nervosa</td>\n",
       "      <td>Stabat mater dolorosa</td>\n",
       "    </tr>\n",
       "    <tr>\n",
       "      <td>2</td>\n",
       "      <td>239138</td>\n",
       "      <td>SOACXLC12AB018218D</td>\n",
       "      <td>TRQJZHB128F92FA42D</td>\n",
       "      <td>-1.935250</td>\n",
       "      <td>-0.655810</td>\n",
       "      <td>Jimmy Witherspoon</td>\n",
       "      <td>Ain't Nobody's Business</td>\n",
       "    </tr>\n",
       "    <tr>\n",
       "      <td>3</td>\n",
       "      <td>254391</td>\n",
       "      <td>SOUTMGD12A8AE47448</td>\n",
       "      <td>TRCXLKK128F42366BF</td>\n",
       "      <td>0.815393</td>\n",
       "      <td>0.662457</td>\n",
       "      <td>Uniting Nations</td>\n",
       "      <td>Out Of Touch</td>\n",
       "    </tr>\n",
       "    <tr>\n",
       "      <td>4</td>\n",
       "      <td>266313</td>\n",
       "      <td>SOTITAA12A6D4F8DA4</td>\n",
       "      <td>TRPMWQM128F932C0C8</td>\n",
       "      <td>1.257460</td>\n",
       "      <td>1.086515</td>\n",
       "      <td>The Walkmen</td>\n",
       "      <td>Brandy alexander</td>\n",
       "    </tr>\n",
       "  </tbody>\n",
       "</table>\n",
       "</div>"
      ],
      "text/plain": [
       "   dzr_sng_id          MSD_sng_id        MSD_track_id   valence   arousal  \\\n",
       "0      213754  SORORTY12A67ADD67E  TRJIEJX12903CF2202 -0.682725  0.316758   \n",
       "1      216752  SOVJXGK12A8AE4760C  TRLBHVY128F4242C31 -1.400403  1.538229   \n",
       "2      239138  SOACXLC12AB018218D  TRQJZHB128F92FA42D -1.935250 -0.655810   \n",
       "3      254391  SOUTMGD12A8AE47448  TRCXLKK128F42366BF  0.815393  0.662457   \n",
       "4      266313  SOTITAA12A6D4F8DA4  TRPMWQM128F932C0C8  1.257460  1.086515   \n",
       "\n",
       "         artist_name               track_name  \n",
       "0  Dark Tranquillity     Insanity's Crescendo  \n",
       "1   Anorexia Nervosa    Stabat mater dolorosa  \n",
       "2  Jimmy Witherspoon  Ain't Nobody's Business  \n",
       "3    Uniting Nations             Out Of Touch  \n",
       "4        The Walkmen         Brandy alexander  "
      ]
     },
     "execution_count": 3,
     "metadata": {},
     "output_type": "execute_result"
    }
   ],
   "source": [
    "df_train.head()"
   ]
  },
  {
   "cell_type": "code",
   "execution_count": 4,
   "metadata": {},
   "outputs": [],
   "source": [
    "df_train['split'] = 'train'\n",
    "df_test['split'] = 'test'\n",
    "df_valid['split'] = 'valid'"
   ]
  },
  {
   "cell_type": "code",
   "execution_count": 5,
   "metadata": {},
   "outputs": [],
   "source": [
    "df = pd.concat([df_train, df_test, df_valid])"
   ]
  },
  {
   "cell_type": "code",
   "execution_count": 6,
   "metadata": {},
   "outputs": [
    {
     "data": {
      "text/html": [
       "<div>\n",
       "<style scoped>\n",
       "    .dataframe tbody tr th:only-of-type {\n",
       "        vertical-align: middle;\n",
       "    }\n",
       "\n",
       "    .dataframe tbody tr th {\n",
       "        vertical-align: top;\n",
       "    }\n",
       "\n",
       "    .dataframe thead th {\n",
       "        text-align: right;\n",
       "    }\n",
       "</style>\n",
       "<table border=\"1\" class=\"dataframe\">\n",
       "  <thead>\n",
       "    <tr style=\"text-align: right;\">\n",
       "      <th></th>\n",
       "      <th>dzr_sng_id</th>\n",
       "      <th>MSD_sng_id</th>\n",
       "      <th>MSD_track_id</th>\n",
       "      <th>valence</th>\n",
       "      <th>arousal</th>\n",
       "      <th>artist_name</th>\n",
       "      <th>track_name</th>\n",
       "      <th>split</th>\n",
       "    </tr>\n",
       "  </thead>\n",
       "  <tbody>\n",
       "    <tr>\n",
       "      <td>0</td>\n",
       "      <td>213754</td>\n",
       "      <td>SORORTY12A67ADD67E</td>\n",
       "      <td>TRJIEJX12903CF2202</td>\n",
       "      <td>-0.682725</td>\n",
       "      <td>0.316758</td>\n",
       "      <td>Dark Tranquillity</td>\n",
       "      <td>Insanity's Crescendo</td>\n",
       "      <td>train</td>\n",
       "    </tr>\n",
       "    <tr>\n",
       "      <td>1</td>\n",
       "      <td>216752</td>\n",
       "      <td>SOVJXGK12A8AE4760C</td>\n",
       "      <td>TRLBHVY128F4242C31</td>\n",
       "      <td>-1.400403</td>\n",
       "      <td>1.538229</td>\n",
       "      <td>Anorexia Nervosa</td>\n",
       "      <td>Stabat mater dolorosa</td>\n",
       "      <td>train</td>\n",
       "    </tr>\n",
       "    <tr>\n",
       "      <td>2</td>\n",
       "      <td>239138</td>\n",
       "      <td>SOACXLC12AB018218D</td>\n",
       "      <td>TRQJZHB128F92FA42D</td>\n",
       "      <td>-1.935250</td>\n",
       "      <td>-0.655810</td>\n",
       "      <td>Jimmy Witherspoon</td>\n",
       "      <td>Ain't Nobody's Business</td>\n",
       "      <td>train</td>\n",
       "    </tr>\n",
       "    <tr>\n",
       "      <td>3</td>\n",
       "      <td>254391</td>\n",
       "      <td>SOUTMGD12A8AE47448</td>\n",
       "      <td>TRCXLKK128F42366BF</td>\n",
       "      <td>0.815393</td>\n",
       "      <td>0.662457</td>\n",
       "      <td>Uniting Nations</td>\n",
       "      <td>Out Of Touch</td>\n",
       "      <td>train</td>\n",
       "    </tr>\n",
       "    <tr>\n",
       "      <td>4</td>\n",
       "      <td>266313</td>\n",
       "      <td>SOTITAA12A6D4F8DA4</td>\n",
       "      <td>TRPMWQM128F932C0C8</td>\n",
       "      <td>1.257460</td>\n",
       "      <td>1.086515</td>\n",
       "      <td>The Walkmen</td>\n",
       "      <td>Brandy alexander</td>\n",
       "      <td>train</td>\n",
       "    </tr>\n",
       "  </tbody>\n",
       "</table>\n",
       "</div>"
      ],
      "text/plain": [
       "   dzr_sng_id          MSD_sng_id        MSD_track_id   valence   arousal  \\\n",
       "0      213754  SORORTY12A67ADD67E  TRJIEJX12903CF2202 -0.682725  0.316758   \n",
       "1      216752  SOVJXGK12A8AE4760C  TRLBHVY128F4242C31 -1.400403  1.538229   \n",
       "2      239138  SOACXLC12AB018218D  TRQJZHB128F92FA42D -1.935250 -0.655810   \n",
       "3      254391  SOUTMGD12A8AE47448  TRCXLKK128F42366BF  0.815393  0.662457   \n",
       "4      266313  SOTITAA12A6D4F8DA4  TRPMWQM128F932C0C8  1.257460  1.086515   \n",
       "\n",
       "         artist_name               track_name  split  \n",
       "0  Dark Tranquillity     Insanity's Crescendo  train  \n",
       "1   Anorexia Nervosa    Stabat mater dolorosa  train  \n",
       "2  Jimmy Witherspoon  Ain't Nobody's Business  train  \n",
       "3    Uniting Nations             Out Of Touch  train  \n",
       "4        The Walkmen         Brandy alexander  train  "
      ]
     },
     "execution_count": 6,
     "metadata": {},
     "output_type": "execute_result"
    }
   ],
   "source": [
    "df.head()"
   ]
  },
  {
   "cell_type": "code",
   "execution_count": 7,
   "metadata": {},
   "outputs": [],
   "source": [
    "#timbre = np.load('timbrewithtag.npz')\n",
    "#array_timbre = timbre['arr_0']\n",
    "#np.savez('processed/timbre.npz', array_timbre[:18644])"
   ]
  },
  {
   "cell_type": "code",
   "execution_count": 8,
   "metadata": {},
   "outputs": [],
   "source": [
    "#loudness = np.load('loudnesswithtag.npz')\n",
    "#array_loudness = loudness['arr_0']\n",
    "#np.savez('processed/loudness.npz', array_loudness[:18644])"
   ]
  },
  {
   "cell_type": "code",
   "execution_count": 9,
   "metadata": {},
   "outputs": [],
   "source": [
    "#pitch = np.load('pitchwithtag.npz')\n",
    "#array_pitch = pitch['arr_0']\n",
    "#np.savez('processed/pitch.npz', array_pitch[:18644])"
   ]
  },
  {
   "cell_type": "code",
   "execution_count": 10,
   "metadata": {},
   "outputs": [],
   "source": [
    "pitch = np.load('processed/pitch.npz')\n",
    "array_pitch = pitch['arr_0']\n",
    "loudness = np.load('processed/loudness.npz')\n",
    "array_loudness = loudness['arr_0']\n",
    "timbre = np.load('processed/timbre.npz')\n",
    "array_timbre = timbre['arr_0']"
   ]
  },
  {
   "cell_type": "code",
   "execution_count": 11,
   "metadata": {},
   "outputs": [
    {
     "data": {
      "text/plain": [
       "(18644, 300, 12)"
      ]
     },
     "execution_count": 11,
     "metadata": {},
     "output_type": "execute_result"
    }
   ],
   "source": [
    "array_pitch.shape"
   ]
  },
  {
   "cell_type": "code",
   "execution_count": 12,
   "metadata": {},
   "outputs": [
    {
     "data": {
      "text/plain": [
       "(18644, 300, 3)"
      ]
     },
     "execution_count": 12,
     "metadata": {},
     "output_type": "execute_result"
    }
   ],
   "source": [
    "array_loudness.shape"
   ]
  },
  {
   "cell_type": "code",
   "execution_count": 14,
   "metadata": {},
   "outputs": [],
   "source": [
    "array_all = np.concatenate((array_pitch, array_timbre, array_loudness), axis=2)"
   ]
  },
  {
   "cell_type": "code",
   "execution_count": 18,
   "metadata": {},
   "outputs": [
    {
     "data": {
      "text/plain": [
       "11267"
      ]
     },
     "execution_count": 18,
     "metadata": {},
     "output_type": "execute_result"
    }
   ],
   "source": [
    "len(df_train)"
   ]
  },
  {
   "cell_type": "code",
   "execution_count": 20,
   "metadata": {},
   "outputs": [
    {
     "data": {
      "text/plain": [
       "3863"
      ]
     },
     "execution_count": 20,
     "metadata": {},
     "output_type": "execute_result"
    }
   ],
   "source": [
    "len(df_valid)"
   ]
  },
  {
   "cell_type": "code",
   "execution_count": 21,
   "metadata": {},
   "outputs": [
    {
     "data": {
      "text/plain": [
       "3514"
      ]
     },
     "execution_count": 21,
     "metadata": {},
     "output_type": "execute_result"
    }
   ],
   "source": [
    "len(df_test)"
   ]
  },
  {
   "cell_type": "code",
   "execution_count": 22,
   "metadata": {},
   "outputs": [],
   "source": [
    "np.savez('processed/train.npz', array_all[:11267])"
   ]
  },
  {
   "cell_type": "code",
   "execution_count": 23,
   "metadata": {},
   "outputs": [],
   "source": [
    "np.savez('processed/valid.npz', array_all[11267:11267+3863])"
   ]
  },
  {
   "cell_type": "code",
   "execution_count": 24,
   "metadata": {},
   "outputs": [],
   "source": [
    "np.savez('processed/test.npz', array_all[-3514:])"
   ]
  },
  {
   "cell_type": "code",
   "execution_count": 25,
   "metadata": {},
   "outputs": [],
   "source": [
    "np.savez('processed/train_y.npz', df_train[['valence', 'arousal']].values)"
   ]
  },
  {
   "cell_type": "code",
   "execution_count": 26,
   "metadata": {},
   "outputs": [],
   "source": [
    "np.savez('processed/test_y.npz', df_test[['valence', 'arousal']].values)"
   ]
  },
  {
   "cell_type": "code",
   "execution_count": 27,
   "metadata": {},
   "outputs": [],
   "source": [
    "np.savez('processed/valid_y.npz', df_valid[['valence', 'arousal']].values)"
   ]
  },
  {
   "cell_type": "code",
   "execution_count": null,
   "metadata": {},
   "outputs": [],
   "source": []
  }
 ],
 "metadata": {
  "kernelspec": {
   "display_name": "Python 3",
   "language": "python",
   "name": "python3"
  },
  "language_info": {
   "codemirror_mode": {
    "name": "ipython",
    "version": 3
   },
   "file_extension": ".py",
   "mimetype": "text/x-python",
   "name": "python",
   "nbconvert_exporter": "python",
   "pygments_lexer": "ipython3",
   "version": "3.7.4"
  }
 },
 "nbformat": 4,
 "nbformat_minor": 2
}
